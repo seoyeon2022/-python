{
  "nbformat": 4,
  "nbformat_minor": 0,
  "metadata": {
    "colab": {
      "provenance": [],
      "collapsed_sections": [],
      "authorship_tag": "ABX9TyM/WhQEuUZ65zCx7C34y20n",
      "include_colab_link": true
    },
    "kernelspec": {
      "name": "python3",
      "display_name": "Python 3"
    },
    "language_info": {
      "name": "python"
    }
  },
  "cells": [
    {
      "cell_type": "markdown",
      "metadata": {
        "id": "view-in-github",
        "colab_type": "text"
      },
      "source": [
        "<a href=\"https://colab.research.google.com/github/seoyeon2022/-python/blob/main/%ED%8C%8C%EC%9D%B4%EC%8D%AC_%EC%88%99%EC%A0%9C2_1.ipynb\" target=\"_parent\"><img src=\"https://colab.research.google.com/assets/colab-badge.svg\" alt=\"Open In Colab\"/></a>"
      ]
    },
    {
      "cell_type": "code",
      "execution_count": null,
      "metadata": {
        "colab": {
          "base_uri": "https://localhost:8080/"
        },
        "id": "VxrV80OtYZRm",
        "outputId": "53eac079-7a0a-4f87-f50b-2238cf57369d"
      },
      "outputs": [
        {
          "output_type": "stream",
          "name": "stdout",
          "text": [
            "자연수 한개를 입력하세요.12\n",
            "계속입력을 원하시면, 자연수 한 개를입력하시고, 아니라면 0을입력하세요.7\n",
            "계속입력을 원하시면, 자연수 한 개를입력하시고, 아니라면 0을입력하세요.3\n",
            "계속입력을 원하시면, 자연수 한 개를입력하시고, 아니라면 0을입력하세요.3\n",
            "계속입력을 원하시면, 자연수 한 개를입력하시고, 아니라면 0을입력하세요.15\n",
            "계속입력을 원하시면, 자연수 한 개를입력하시고, 아니라면 0을입력하세요.0\n",
            "당신이 입력한 숫자는 큰 것부터 순서대로 말한다면 아래와 같습니다.\n",
            "15, 12, 7, 3, 3\n"
          ]
        }
      ],
      "source": [
        "#202201722 서연\n",
        "L = []\n",
        "S = \"\"\n",
        "n = int(input(\"자연수 한개를 입력하세요.\"))\n",
        "L.append(n)\n",
        "for A in range(99): \n",
        "    a= int(input(\"계속입력을 원하시면, 자연수 한 개를입력하시고, 아니라면 0을입력하세요.\"))\n",
        "    if a == 0:\n",
        "        break\n",
        "    if A > 99:\n",
        "        print(\"이제그만하세요. 벌써 100개를 입력했어요.\")\n",
        "        break\n",
        "    L.append(a)\n",
        "\n",
        "for i in range(len(L)-1,0,-1):\n",
        "    for j in range(i):\n",
        "        if L[j]> L[j+1]:\n",
        "            L[j], L[j+1] = L[j+1], L[j]\n",
        "\n",
        "for i in range(len(L)-1,-1,-1):\n",
        "    S = S+str(L[i])\n",
        "    if i != 0:\n",
        "        S = S+\", \"\n",
        "print(\"당신이 입력한 숫자는 큰 것부터 순서대로 말한다면 아래와 같습니다.\")\n",
        "print(S)"
      ]
    }
  ]
}