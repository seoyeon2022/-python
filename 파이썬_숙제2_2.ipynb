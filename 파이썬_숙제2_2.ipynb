{
  "nbformat": 4,
  "nbformat_minor": 0,
  "metadata": {
    "colab": {
      "provenance": [],
      "collapsed_sections": [],
      "authorship_tag": "ABX9TyPomgPxFfkboPRHHEEGngEH",
      "include_colab_link": true
    },
    "kernelspec": {
      "name": "python3",
      "display_name": "Python 3"
    },
    "language_info": {
      "name": "python"
    }
  },
  "cells": [
    {
      "cell_type": "markdown",
      "metadata": {
        "id": "view-in-github",
        "colab_type": "text"
      },
      "source": [
        "<a href=\"https://colab.research.google.com/github/seoyeon2022/-python/blob/main/%ED%8C%8C%EC%9D%B4%EC%8D%AC_%EC%88%99%EC%A0%9C2_2.ipynb\" target=\"_parent\"><img src=\"https://colab.research.google.com/assets/colab-badge.svg\" alt=\"Open In Colab\"/></a>"
      ]
    },
    {
      "cell_type": "code",
      "execution_count": null,
      "metadata": {
        "colab": {
          "base_uri": "https://localhost:8080/"
        },
        "id": "4fEjTx20aCD7",
        "outputId": "e572a3dd-58b9-467d-cde5-4c3af5250312"
      },
      "outputs": [
        {
          "output_type": "stream",
          "name": "stdout",
          "text": [
            "숫자를 입력하세요:32\n",
            "너무 많습니다.\n",
            "숫자를 입력하세요:31\n",
            "너무 많습니다.\n",
            "숫자를 입력하세요:6\n",
            "1\n",
            "*2\n",
            "**3\n",
            "***4\n",
            "****5\n",
            "*****6\n"
          ]
        }
      ],
      "source": [
        "#202201722 서연\n",
        "a = True\n",
        "while (a):\n",
        "    n = int(input(\"숫자를 입력하세요:\"))\n",
        "    if n >=31:\n",
        "        print(\"너무 많습니다.\")\n",
        "    if n <=30:\n",
        "        a = False\n",
        "count = 0\n",
        "while count < n:\n",
        "    print(\"*\"*count + str(count+1))\n",
        "    count+=1"
      ]
    }
  ]
}