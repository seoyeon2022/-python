{
  "nbformat": 4,
  "nbformat_minor": 0,
  "metadata": {
    "colab": {
      "provenance": [],
      "authorship_tag": "ABX9TyOK393QeqCCKieMFaUf3p8L",
      "include_colab_link": true
    },
    "kernelspec": {
      "name": "python3",
      "display_name": "Python 3"
    },
    "language_info": {
      "name": "python"
    }
  },
  "cells": [
    {
      "cell_type": "markdown",
      "metadata": {
        "id": "view-in-github",
        "colab_type": "text"
      },
      "source": [
        "<a href=\"https://colab.research.google.com/github/seoyeon2022/-python/blob/main/%EC%88%99%EC%A0%9C3.ipynb\" target=\"_parent\"><img src=\"https://colab.research.google.com/assets/colab-badge.svg\" alt=\"Open In Colab\"/></a>"
      ]
    },
    {
      "cell_type": "code",
      "execution_count": null,
      "metadata": {
        "colab": {
          "base_uri": "https://localhost:8080/"
        },
        "id": "njxVECKb9ayo",
        "outputId": "e27076b4-8664-4691-faf8-bac29489c414"
      },
      "outputs": [
        {
          "output_type": "stream",
          "name": "stdout",
          "text": [
            "4\n",
            "12\n",
            "4는 12의 약수이지만, 12가 아니다.\n"
          ]
        }
      ],
      "source": [
        "def divisor(a,b):\n",
        "    x=Check(a,b)\n",
        "    if (x==1):\n",
        "        print(\"%d는 %d의 약수이지만, %d가 아니다.\"%(a,b,b))\n",
        "    else:\n",
        "        print(\"%d와 %d는 서로의 약수가 아니다.\"%(a,b))\n",
        "\n",
        "def Check(x,y):\n",
        "    if ((y%x)==0):\n",
        "        return 1\n",
        "    else:\n",
        "        return 0\n",
        "\n",
        "x = int(input())\n",
        "y = int(input())\n",
        "if(x>y):\n",
        "    divisor(y,x)\n",
        "elif(x==y):\n",
        "    print(\"%d와 %d는 같은 숫자이다.\"%(x,y))\n",
        "else:\n",
        "    divisor(x,y)"
      ]
    }
  ]
}